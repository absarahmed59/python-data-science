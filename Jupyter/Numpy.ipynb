{
 "cells": [
  {
   "cell_type": "code",
   "execution_count": 1,
   "id": "5786f404-46c7-4af4-a5a0-7b4ed470c260",
   "metadata": {},
   "outputs": [],
   "source": [
    "import numpy as np"
   ]
  },
  {
   "cell_type": "code",
   "execution_count": 5,
   "id": "2125e1f0-b676-4a67-9bdc-b7208865c491",
   "metadata": {},
   "outputs": [],
   "source": [
    "l = [12,3,4,'a',4,3]"
   ]
  },
  {
   "cell_type": "code",
   "execution_count": 6,
   "id": "d57c4471-ba4e-4e62-8633-ab033eb0da35",
   "metadata": {},
   "outputs": [],
   "source": [
    "arr = np.array(l)"
   ]
  },
  {
   "cell_type": "code",
   "execution_count": 7,
   "id": "f8acb9ce-919c-4a25-bcaa-7d57e121cb3a",
   "metadata": {},
   "outputs": [
    {
     "data": {
      "text/plain": [
       "[12, 3, 4, 'a', 4, 3]"
      ]
     },
     "execution_count": 7,
     "metadata": {},
     "output_type": "execute_result"
    }
   ],
   "source": [
    "l"
   ]
  },
  {
   "cell_type": "code",
   "execution_count": 11,
   "id": "429069e8-3aed-4a26-a7fe-41f0139f7aec",
   "metadata": {},
   "outputs": [],
   "source": [
    "arr = np.random.randint(100, size = (30))"
   ]
  },
  {
   "cell_type": "code",
   "execution_count": 12,
   "id": "c83bc9f9-9f29-497a-970a-a562549b8efb",
   "metadata": {},
   "outputs": [
    {
     "data": {
      "text/plain": [
       "array([61, 25, 58, 90, 18, 54, 80, 86, 78, 91,  5, 94, 66, 65, 95, 86, 35,\n",
       "       28, 23, 60, 61, 40, 56, 56, 84,  6, 45, 62, 11, 94])"
      ]
     },
     "execution_count": 12,
     "metadata": {},
     "output_type": "execute_result"
    }
   ],
   "source": [
    "arr"
   ]
  },
  {
   "cell_type": "code",
   "execution_count": 16,
   "id": "cd7b6139-23ba-4454-b539-3050bd3211cd",
   "metadata": {},
   "outputs": [
    {
     "data": {
      "text/plain": [
       "array([[[61, 25],\n",
       "        [58, 90],\n",
       "        [18, 54]],\n",
       "\n",
       "       [[80, 86],\n",
       "        [78, 91],\n",
       "        [ 5, 94]],\n",
       "\n",
       "       [[66, 65],\n",
       "        [95, 86],\n",
       "        [35, 28]],\n",
       "\n",
       "       [[23, 60],\n",
       "        [61, 40],\n",
       "        [56, 56]],\n",
       "\n",
       "       [[84,  6],\n",
       "        [45, 62],\n",
       "        [11, 94]]])"
      ]
     },
     "execution_count": 16,
     "metadata": {},
     "output_type": "execute_result"
    }
   ],
   "source": [
    "arr.reshape(5,3,2)"
   ]
  },
  {
   "cell_type": "code",
   "execution_count": 45,
   "id": "e71d0af2-991e-4ca0-ba35-95771b09b28d",
   "metadata": {},
   "outputs": [],
   "source": [
    "s = arr.reshape(15,2)"
   ]
  },
  {
   "cell_type": "code",
   "execution_count": 28,
   "id": "437c4ede-e953-4875-9a9f-db8fdda3d80d",
   "metadata": {},
   "outputs": [
    {
     "name": "stdout",
     "output_type": "stream",
     "text": [
      "6\n"
     ]
    }
   ],
   "source": [
    "x = np.array([[1, 2, 3], [4, 5, 6], [7, 8, 9]])\n",
    "\n",
    "print(x[1][2])"
   ]
  },
  {
   "cell_type": "code",
   "execution_count": 29,
   "id": "22f15f59-3e8b-454a-a8e7-9e60367c7e9b",
   "metadata": {},
   "outputs": [],
   "source": [
    "arr = np.random.randint(100, size=(5,6))"
   ]
  },
  {
   "cell_type": "code",
   "execution_count": 30,
   "id": "2869e90a-ebf0-4620-8b10-36a6397c9a80",
   "metadata": {},
   "outputs": [
    {
     "name": "stdout",
     "output_type": "stream",
     "text": [
      "72\n"
     ]
    }
   ],
   "source": [
    "print(arr[2][2])"
   ]
  },
  {
   "cell_type": "code",
   "execution_count": 31,
   "id": "e886b8f6-694a-4d3f-a0da-9aa2e8d00122",
   "metadata": {},
   "outputs": [
    {
     "data": {
      "text/plain": [
       "array([[22, 28, 52, 60, 43, 55],\n",
       "       [74, 98, 63,  9, 96,  1],\n",
       "       [72, 10, 72, 71, 52, 24],\n",
       "       [34, 45, 55, 38, 46, 45],\n",
       "       [70, 87, 18, 54, 29, 88]])"
      ]
     },
     "execution_count": 31,
     "metadata": {},
     "output_type": "execute_result"
    }
   ],
   "source": [
    "arr"
   ]
  },
  {
   "cell_type": "code",
   "execution_count": 34,
   "id": "278373cc-3069-4ee7-b0e3-aedf67074e0b",
   "metadata": {},
   "outputs": [],
   "source": [
    "l = list(arr.reshape(3,10))"
   ]
  },
  {
   "cell_type": "code",
   "execution_count": 35,
   "id": "a19a3503-9e26-4d10-8387-420d74288c59",
   "metadata": {},
   "outputs": [],
   "source": [
    "n = np.array(l)"
   ]
  },
  {
   "cell_type": "code",
   "execution_count": 36,
   "id": "fd0477d5-a0cb-4958-9bfe-afc2335d8e15",
   "metadata": {},
   "outputs": [
    {
     "data": {
      "text/plain": [
       "array([[22, 28, 52, 60, 43, 55, 74, 98, 63,  9],\n",
       "       [96,  1, 72, 10, 72, 71, 52, 24, 34, 45],\n",
       "       [55, 38, 46, 45, 70, 87, 18, 54, 29, 88]])"
      ]
     },
     "execution_count": 36,
     "metadata": {},
     "output_type": "execute_result"
    }
   ],
   "source": [
    "n"
   ]
  },
  {
   "cell_type": "code",
   "execution_count": 44,
   "id": "ef9c3ce2-50c2-440d-85df-a46783df5575",
   "metadata": {},
   "outputs": [
    {
     "data": {
      "text/plain": [
       "98"
      ]
     },
     "execution_count": 44,
     "metadata": {},
     "output_type": "execute_result"
    }
   ],
   "source": [
    "n.max()"
   ]
  },
  {
   "cell_type": "code",
   "execution_count": 46,
   "id": "26ec801a-190b-41cd-a168-7273b4ba2801",
   "metadata": {},
   "outputs": [
    {
     "data": {
      "text/plain": [
       "array([[22, 28],\n",
       "       [52, 60],\n",
       "       [43, 55],\n",
       "       [74, 98],\n",
       "       [63,  9],\n",
       "       [96,  1],\n",
       "       [72, 10],\n",
       "       [72, 71],\n",
       "       [52, 24],\n",
       "       [34, 45],\n",
       "       [55, 38],\n",
       "       [46, 45],\n",
       "       [70, 87],\n",
       "       [18, 54],\n",
       "       [29, 88]])"
      ]
     },
     "execution_count": 46,
     "metadata": {},
     "output_type": "execute_result"
    }
   ],
   "source": [
    "s"
   ]
  },
  {
   "cell_type": "code",
   "execution_count": 48,
   "id": "b4ca1685-b991-4473-9e15-529be6dbde2f",
   "metadata": {},
   "outputs": [],
   "source": [
    "a = s.reshape(1,30)"
   ]
  },
  {
   "cell_type": "code",
   "execution_count": 49,
   "id": "0ae4724e-a135-4e78-96f0-44f5490ae2fd",
   "metadata": {},
   "outputs": [
    {
     "data": {
      "text/plain": [
       "array([[22, 28, 52, 60, 43, 55, 74, 98, 63,  9, 96,  1, 72, 10, 72, 71,\n",
       "        52, 24, 34, 45, 55, 38, 46, 45, 70, 87, 18, 54, 29, 88]])"
      ]
     },
     "execution_count": 49,
     "metadata": {},
     "output_type": "execute_result"
    }
   ],
   "source": [
    "a\n"
   ]
  },
  {
   "cell_type": "code",
   "execution_count": 50,
   "id": "fbe37d2c-0650-4553-aa3c-09234f1fae15",
   "metadata": {},
   "outputs": [],
   "source": [
    "arr1 = np.array([1, 2, 3])\n",
    "\n",
    "arr2 = np.array([4, 5, 6])\n",
    "\n",
    "arr = np.concatenate((arr1, arr2))"
   ]
  },
  {
   "cell_type": "code",
   "execution_count": 51,
   "id": "1bb2b1be-ad5f-4402-9d4b-7798446501e5",
   "metadata": {},
   "outputs": [
    {
     "data": {
      "text/plain": [
       "array([1, 2, 3, 4, 5, 6])"
      ]
     },
     "execution_count": 51,
     "metadata": {},
     "output_type": "execute_result"
    }
   ],
   "source": [
    "arr"
   ]
  },
  {
   "cell_type": "code",
   "execution_count": 76,
   "id": "844feca8-15fc-4b96-a4ba-0d5baa680a85",
   "metadata": {},
   "outputs": [],
   "source": [
    "arr = np.concatenate((arr1, arr2), axis = 1)"
   ]
  },
  {
   "cell_type": "code",
   "execution_count": 90,
   "id": "0e8f2919-f724-42a2-a92e-5589c0bdd92f",
   "metadata": {},
   "outputs": [
    {
     "name": "stdout",
     "output_type": "stream",
     "text": [
      "[[1 2 1]\n",
      " [3 4 2]\n",
      " [5 6 3]\n",
      " [7 8 4]\n",
      " [1 7 5]]\n"
     ]
    }
   ],
   "source": [
    "arr1 = np.array([[1, 2], [3, 4]])\n",
    "\n",
    "arr2 = np.array([[5, 6], [7, 8]])\n",
    "\n",
    "arr = np.concatenate((arr1, arr2), axis=0)\n",
    "a = np.array([[1,7]])\n",
    "ar =  np.vstack((arr, a))\n",
    "m = np.array([[1],[2],[3],[4],[5]])\n",
    "r =  np.hstack((ar, m))\n",
    "print(r)"
   ]
  },
  {
   "cell_type": "code",
   "execution_count": 92,
   "id": "10df4605-0896-471a-960e-5fae0ed884a0",
   "metadata": {},
   "outputs": [
    {
     "ename": "ValueError",
     "evalue": "diag requires an array of at least two dimensions",
     "output_type": "error",
     "traceback": [
      "\u001b[1;31m---------------------------------------------------------------------------\u001b[0m",
      "\u001b[1;31mValueError\u001b[0m                                Traceback (most recent call last)",
      "Cell \u001b[1;32mIn[92], line 1\u001b[0m\n\u001b[1;32m----> 1\u001b[0m a \u001b[38;5;241m=\u001b[39m \u001b[43mnp\u001b[49m\u001b[38;5;241;43m.\u001b[39;49m\u001b[43mdiagonal\u001b[49m\u001b[43m(\u001b[49m\u001b[38;5;241;43m5\u001b[39;49m\u001b[43m,\u001b[49m\u001b[38;5;241;43m4\u001b[39;49m\u001b[43m)\u001b[49m\n",
      "File \u001b[1;32m~\\AppData\\Local\\Programs\\Python\\Python312\\Lib\\site-packages\\numpy\\core\\fromnumeric.py:1692\u001b[0m, in \u001b[0;36mdiagonal\u001b[1;34m(a, offset, axis1, axis2)\u001b[0m\n\u001b[0;32m   1690\u001b[0m     \u001b[38;5;28;01mreturn\u001b[39;00m asarray(a)\u001b[38;5;241m.\u001b[39mdiagonal(offset\u001b[38;5;241m=\u001b[39moffset, axis1\u001b[38;5;241m=\u001b[39maxis1, axis2\u001b[38;5;241m=\u001b[39maxis2)\n\u001b[0;32m   1691\u001b[0m \u001b[38;5;28;01melse\u001b[39;00m:\n\u001b[1;32m-> 1692\u001b[0m     \u001b[38;5;28;01mreturn\u001b[39;00m \u001b[43masanyarray\u001b[49m\u001b[43m(\u001b[49m\u001b[43ma\u001b[49m\u001b[43m)\u001b[49m\u001b[38;5;241;43m.\u001b[39;49m\u001b[43mdiagonal\u001b[49m\u001b[43m(\u001b[49m\u001b[43moffset\u001b[49m\u001b[38;5;241;43m=\u001b[39;49m\u001b[43moffset\u001b[49m\u001b[43m,\u001b[49m\u001b[43m \u001b[49m\u001b[43maxis1\u001b[49m\u001b[38;5;241;43m=\u001b[39;49m\u001b[43maxis1\u001b[49m\u001b[43m,\u001b[49m\u001b[43m \u001b[49m\u001b[43maxis2\u001b[49m\u001b[38;5;241;43m=\u001b[39;49m\u001b[43maxis2\u001b[49m\u001b[43m)\u001b[49m\n",
      "\u001b[1;31mValueError\u001b[0m: diag requires an array of at least two dimensions"
     ]
    }
   ],
   "source": [
    " a = np.diagonal(5,4)"
   ]
  },
  {
   "cell_type": "code",
   "execution_count": null,
   "id": "6adac03d-7fb2-4e6d-a9b7-8cce54b54a15",
   "metadata": {},
   "outputs": [],
   "source": []
  },
  {
   "cell_type": "code",
   "execution_count": null,
   "id": "643007d6-3d72-40d5-ac58-a3cec8b885c4",
   "metadata": {},
   "outputs": [],
   "source": []
  }
 ],
 "metadata": {
  "kernelspec": {
   "display_name": "Python 3 (ipykernel)",
   "language": "python",
   "name": "python3"
  },
  "language_info": {
   "codemirror_mode": {
    "name": "ipython",
    "version": 3
   },
   "file_extension": ".py",
   "mimetype": "text/x-python",
   "name": "python",
   "nbconvert_exporter": "python",
   "pygments_lexer": "ipython3",
   "version": "3.12.0"
  }
 },
 "nbformat": 4,
 "nbformat_minor": 5
}
